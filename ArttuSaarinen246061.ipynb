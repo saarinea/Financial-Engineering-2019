{
 "cells": [
  {
   "cell_type": "markdown",
   "metadata": {},
   "source": [
    "# TTA-45046 Financial Engineering, Project Work\n",
    "Arttu Saarinen, arttu.saarinen@tuni.fi, 246061\n",
    "\n",
    "### Code contents\n",
    " 1. Imports\n",
    " 2. Functions\n",
    " 3. File reading and preparing data\n",
    " 4. 1 Expected payoff at t_20 and fair value of the contract\n",
    " 5. 2 Quantiles of the payoff \n",
    " 6. 3 How different weights affect the payoff\n",
    " 7. 4 Make a plot of the expected payoff against different risk free rates and different volatility values\n",
    " 8. 5 Set a cap to payoff \n",
    " 9. 6 Find the value of the contract on 25 March 2019\n",
    " 10. 7 Inverse reasoning\n",
    " 11. 8 Overall comment on the contract\n",
    " "
   ]
  },
  {
   "cell_type": "markdown",
   "metadata": {},
   "source": [
    "## Imports"
   ]
  },
  {
   "cell_type": "code",
   "execution_count": 1,
   "metadata": {},
   "outputs": [],
   "source": [
    "import numpy as np\n",
    "import pandas as pd\n",
    "from scipy.linalg import sqrtm\n",
    "import matplotlib.pyplot as plt\n",
    "import warnings\n",
    "warnings.filterwarnings('ignore')\n",
    "import timeit\n",
    "\n",
    "start_time = timeit.default_timer()\n",
    "\n",
    "# Main settings:\n",
    "m = 10**3 # Number of paths"
   ]
  },
  {
   "cell_type": "markdown",
   "metadata": {},
   "source": [
    "## Functions\n"
   ]
  },
  {
   "cell_type": "code",
   "execution_count": 2,
   "metadata": {},
   "outputs": [],
   "source": [
    "# Returns payoff of the basket according to the basket values and minimum supplemental amount \n",
    "def basketPayoff(B, S_m, cap=None):\n",
    "    C = np.mean(B) #basket closing value\n",
    "    B_r = (C - B[0]) / B[0] #basket percent change\n",
    "    SupplAmt = np.max([1000 * B_r, S_m]) #supplemental amount\n",
    "    P = 1000 + SupplAmt #payoff\n",
    "    if cap != None:\n",
    "        P = np.min([P, cap])\n",
    "    return P\n",
    "\n",
    "# Returns the multiplication vector M defined with \n",
    "# certain date's prices\n",
    "def M_(data, date, W):\n",
    "    M = np.array([W[0]/data['SPX_Close'].loc[date],\n",
    "              W[1]/data['SX5E_Close'].loc[date],\n",
    "              W[2]/data['HSI_Close'].loc[date]])\n",
    "    return M\n",
    "\n",
    "# Returns log-returns of given data and date range\n",
    "def logReturns_(data, end_date, start_date=None):\n",
    "    logReturns = data.loc[end_date:start_date]\n",
    "\n",
    "    #Calculate log-returns\n",
    "    logReturns['SPX_LR'] = np.log(\n",
    "        logReturns['SPX_Close']/logReturns['SPX_Close'].shift(1))\n",
    "    logReturns['SX5E_LR'] = np.log(\n",
    "        logReturns['SX5E_Close']/logReturns['SX5E_Close'].shift(1))\n",
    "    logReturns['HSI_LR'] = np.log(\n",
    "        logReturns['HSI_Close']/logReturns['HSI_Close'].shift(1))\n",
    "    \n",
    "    return logReturns\n",
    "\n",
    "# Returns volatilities based on a given time window and data\n",
    "def volatilities(data, end_date, start_date=None):\n",
    "    logReturns = logReturns_(data, end_date, start_date)\n",
    "\n",
    "    #Calculate volatilities\n",
    "    dt = 1/252\n",
    "    vol = np.empty(3)\n",
    "    vol[0] = np.std(logReturns['SPX_LR'])/np.sqrt(dt)\n",
    "    vol[1] = np.std(logReturns['SX5E_LR'])/np.sqrt(dt)\n",
    "    vol[2] = np.std(logReturns['HSI_LR'])/np.sqrt(dt)\n",
    "    return vol\n",
    "\n",
    "# Returns correlation matrix calculated with given log-returns\n",
    "def correlationMatrix(logReturns):\n",
    "    corrCalcMatrix = logReturns.drop(columns=['SPX_Close', 'SX5E_Close', 'HSI_Close'])\n",
    "    R = corrCalcMatrix.corr()\n",
    "    return R\n",
    "\n",
    "# Calculates basket's payoff vector using antithetic Monte-Carlo method\n",
    "def payoff(data, r, m, n, S_m, end_date, start_date=None, vol=None, cap=None):\n",
    "    \n",
    "    if np.any(vol==None):\n",
    "        vol = volatilities(data, end_date, start_date)\n",
    "    logReturns = logReturns_(data, end_date, start_date)\n",
    "    R = correlationMatrix(logReturns)\n",
    "\n",
    "    S = np.empty([3, n+1]) # Index value matrices\n",
    "    S[0:3,0] = S0\n",
    "    S_at = S\n",
    "\n",
    "    B = np.empty(n+1) # Basket value matrices\n",
    "    B[0] = 100\n",
    "    B_at = B\n",
    "\n",
    "    V = np.empty(m) # Monte Carlo matrices\n",
    "    V_at = V\n",
    "    W = V\n",
    "\n",
    "    for i in range(m): # Loop through paths\n",
    "\n",
    "        # Compute epsilon\n",
    "        eps = np.dot(sqrtm(R), np.random.randn(3, n+1))\n",
    "        \n",
    "        for j in range(1, n+1): # Loop through time steps\n",
    "\n",
    "            # Time difference between two dates\n",
    "            dt = (t.iloc[j] - t.iloc[j-1]).days / 365\n",
    "\n",
    "            # Index values\n",
    "            S[0:3, j] = S[0:3, j-1] * np.exp((r - 0.5 * vol[0:3]**2) * dt + vol[0:3] * eps[0:3, j] * np.sqrt(dt))\n",
    "            S_at[0:3, j] = S_at[0:3, j-1] * np.exp((r - 0.5 * vol[0:3]**2) * dt - vol[0:3] * eps[0:3, j] * np.sqrt(dt))\n",
    "\n",
    "            # Basket values\n",
    "            B[j] = S[0, j]*M[0] + S[1, j]*M[1] + S[2, j]*M[2]\n",
    "            B_at[j] = S_at[0, j]*M[0] + S_at[1, j]*M[1] + S_at[2, j]*M[2]\n",
    "        \n",
    "        # Calculate payoffs\n",
    "        V[i] = basketPayoff(B, S_m, cap)\n",
    "        V_at[i] = basketPayoff(B_at, S_m, cap)\n",
    "        W[i] = 0.5 * (V[i] + V_at[i])\n",
    "        \n",
    "    return W\n",
    "\n",
    "# Returns index values at defined t_0\n",
    "def initialIndexValues(data, date):\n",
    "    S0 = np.array([data['SPX_Close'].loc[date].iloc[0],\n",
    "               data['SX5E_Close'].loc[date].iloc[0], \n",
    "               data['HSI_Close'].loc[date].iloc[0]])\n",
    "\n",
    "    return S0\n"
   ]
  },
  {
   "cell_type": "markdown",
   "metadata": {},
   "source": [
    "## File reading and preparing data"
   ]
  },
  {
   "cell_type": "code",
   "execution_count": 3,
   "metadata": {},
   "outputs": [],
   "source": [
    "# Read from .csv-files\n",
    "SPX = pd.read_csv('SPX.csv', sep=',')\n",
    "SX5E = pd.read_csv('SX5E.csv', sep=',')\n",
    "HSI = pd.read_csv('HSI.csv', sep=',')\n",
    "\n",
    "# Delete unnecessary columns\n",
    "SPX = SPX[['Date', ' Close']]\n",
    "SX5E = SX5E[['Date', ' Close']]\n",
    "HSI = HSI[['Date', ' Close']]\n",
    "\n",
    "# Remove whitespaces from Close-column name\n",
    "SPX.rename(columns={' Close': 'Close'}, inplace=True)\n",
    "SX5E.rename(columns={' Close': 'Close'}, inplace=True)\n",
    "HSI.rename(columns={' Close': 'Close'}, inplace=True)\n",
    "\n",
    "# Replace range-index with datetime-index\n",
    "SPX['Date'] = pd.to_datetime(SPX['Date'], format='%m/%d/%y')\n",
    "SX5E['Date'] = pd.to_datetime(SX5E['Date'], format='%m/%d/%y')\n",
    "HSI['Date'] = pd.to_datetime(HSI['Date'], format='%m/%d/%y')\n",
    "SPX.set_index('Date', inplace=True, drop=True)\n",
    "SX5E.set_index('Date', inplace=True, drop=True)\n",
    "HSI.set_index('Date', inplace=True, drop=True)\n",
    "\n",
    "# Edit data onwards, join to one dataframe\n",
    "data = SPX\n",
    "data.rename(columns={'Close': 'SPX_Close'}, inplace=True)\n",
    "data['SX5E_Close'] = SX5E['Close']\n",
    "data['HSI_Close'] = HSI['Close']\n",
    "\n",
    "# Fetch prices for each index in t0 \n",
    "S0 = initialIndexValues(data, '2019-02-25')\n",
    "\n",
    "# Observation dates\n",
    "t = pd.DataFrame(data = [\n",
    "    '2019-02-25',\n",
    "    '2019-05-28',\n",
    "    '2019-08-26',\n",
    "    '2019-11-25',\n",
    "    '2020-02-25',\n",
    "    '2020-05-26',\n",
    "    '2020-08-25',\n",
    "    '2020-11-25',\n",
    "    '2021-02-25',\n",
    "    '2021-05-25',\n",
    "    '2021-08-25',\n",
    "    '2021-11-26',\n",
    "    '2022-02-25',\n",
    "    '2022-05-25',\n",
    "    '2022-08-25',\n",
    "    '2022-11-25',\n",
    "    '2023-02-27',\n",
    "    '2023-05-25',\n",
    "    '2023-08-25',\n",
    "    '2023-11-27',\n",
    "    '2024-02-26'])\n",
    "t = pd.to_datetime(t[0], format='%Y-%m-%d')\n"
   ]
  },
  {
   "cell_type": "markdown",
   "metadata": {},
   "source": [
    "# 1 Expected payoff at t_20 and fair value of the contract using data from\n",
    "i) Last year  \n",
    "ii) Last two years  \n",
    "iii) Last five years  \n",
    "  \n",
    "Print a histogram of three cases.\n",
    "\n",
    "### Comment how different time horizons affect the evaluation:\n",
    "The time horizon is used to calculate volatilities and correlation matrix. \n",
    "\n",
    "The time horizon of two years has the smallest volatility, which leads to lowest prices. Volatilities are shown on the prints next to the prices. \n",
    "\n"
   ]
  },
  {
   "cell_type": "code",
   "execution_count": 4,
   "metadata": {},
   "outputs": [
    {
     "name": "stdout",
     "output_type": "stream",
     "text": [
      "Price (1 year):  1002.11\n",
      "Payoff (1 year):  1135.54\n",
      "Mean of volatilities (1 year):  0.165\n",
      "\n",
      "Price (2 years): 995.93\n",
      "Payoff (2 years):  1128.54\n",
      "Mean of volatilities (2 years): 0.143\n",
      "\n",
      "Price (5 years): 1001.00\n",
      "Payoff (5 years):  1134.28\n",
      "Mean of volatilities (5 years): 0.162\n",
      "\n"
     ]
    }
   ],
   "source": [
    "r = 0.025 # Risk-free rate for each index\n",
    "n = 20 # Number of time steps\n",
    "S_m = 70 # Minimum supplemental amount\n",
    "I_Weights = [100/3, 100/3, 100/3] # Index weights in basket\n",
    "M = M_(data, '2019-02-25', I_Weights) # Multiplier vector\n",
    "\n",
    "# i) Last year\n",
    "W_1 = payoff(data, r, m, n, S_m, '2019-02-25', '2018-02-25')\n",
    "# ii) Last two years\n",
    "W_2 = payoff(data, r, m, n, S_m, '2019-02-25', '2017-02-25')\n",
    "# iii) Last five years\n",
    "W_5 = payoff(data, r, m, n, S_m, '2019-02-25', '2014-02-25')\n",
    "\n",
    "#Calculate payoffs\n",
    "PO_1 = np.mean(W_1)\n",
    "PO_2 = np.mean(W_2)\n",
    "PO_5 = np.mean(W_5)\n",
    "\n",
    "#Calculate fair prices by discounting\n",
    "P_1 = PO_1*np.exp(-r*5)\n",
    "P_2 = PO_2*np.exp(-r*5)\n",
    "P_5 = PO_5*np.exp(-r*5)\n",
    "\n",
    "Vol_1 = volatilities(data, '2019-02-25', '2018-02-25')\n",
    "Vol_2 = volatilities(data, '2019-02-25', '2017-02-25')\n",
    "Vol_5 = volatilities(data, '2019-02-25', '2014-02-25')\n",
    "\n",
    "# Save the 5-year price, payoff, payoff matrix and volatility matrix for future use\n",
    "W_orig = W_5\n",
    "PO_orig = PO_5\n",
    "P_orig = P_5\n",
    "Vol_orig = Vol_5\n",
    "\n",
    "print('Price (1 year):  ' + '{0:.2f}'.format(P_1))\n",
    "print('Payoff (1 year):  ' + '{0:.2f}'.format(PO_1))\n",
    "print(\"Mean of volatilities (1 year):  \" + '{0:.3f}'.format(np.mean(Vol_1))+'\\n')\n",
    "print('Price (2 years): ' + '{0:.2f}'.format(P_2))\n",
    "print('Payoff (2 years):  ' + '{0:.2f}'.format(PO_2))\n",
    "print(\"Mean of volatilities (2 years): \" + '{0:.3f}'.format(np.mean(Vol_2))+'\\n')\n",
    "print('Price (5 years): ' + '{0:.2f}'.format(P_5))\n",
    "print('Payoff (5 years):  ' + '{0:.2f}'.format(PO_5))\n",
    "print(\"Mean of volatilities (5 years): \" + '{0:.3f}'.format(np.mean(Vol_5))+'\\n')"
   ]
  },
  {
   "cell_type": "code",
   "execution_count": 5,
   "metadata": {},
   "outputs": [
    {
     "data": {
      "image/png": "[encoded data removed]",
      "text/plain": [
       "<Figure size 432x288 with 1 Axes>"
      ]
     },
     "metadata": {
      "needs_background": "light"
     },
     "output_type": "display_data"
    },
    {
     "data": {
      "image/png": "[encoded data removed]",
      "text/plain": [
       "<Figure size 432x288 with 1 Axes>"
      ]
     },
     "metadata": {
      "needs_background": "light"
     },
     "output_type": "display_data"
    },
    {
     "data": {
      "image/png": "[encoded data removed]",
      "text/plain": [
       "<Figure size 432x288 with 1 Axes>"
      ]
     },
     "metadata": {
      "needs_background": "light"
     },
     "output_type": "display_data"
    },
    {
     "data": {
      "image/png": "[encoded data removed]",
      "text/plain": [
       "<Figure size 432x288 with 1 Axes>"
      ]
     },
     "metadata": {
      "needs_background": "light"
     },
     "output_type": "display_data"
    }
   ],
   "source": [
    "# Histograms\n",
    "bins = 25\n",
    "xMax = 2200\n",
    "xMin = 1000\n",
    "yMax = 700 * m/1000 # Dynamical scale\n",
    "yMin = 0\n",
    "\n",
    "plt.hist(W_1, bins=bins)\n",
    "plt.title('One year')\n",
    "plt.axis([xMin, xMax, yMin, yMax])\n",
    "plt.show()\n",
    "\n",
    "plt.hist(W_2, bins=bins)\n",
    "plt.title('Two years')\n",
    "plt.axis([xMin, xMax, yMin, yMax])\n",
    "plt.show()\n",
    "\n",
    "plt.hist(W_5, bins=bins)\n",
    "plt.title('Five years')\n",
    "plt.axis([xMin, xMax, yMin, yMax])\n",
    "plt.show()\n",
    "\n",
    "plt.hist([W_1, W_2, W_5], bins, label=['1', '2', '5'], histtype='step')\n",
    "plt.title('All')\n",
    "plt.legend(prop={'size': 10})\n",
    "plt.show()"
   ]
  },
  {
   "cell_type": "markdown",
   "metadata": {},
   "source": [
    "# 2 Quantiles of the payoff\n",
    "0.025, 0.5, 0.95 quantiles of the payoff.  \n",
    "### Comment: \n",
    "At lower quantiles the payoff is the minimum payoff value 1070. Only when higher quantiles are calculated the value also detaches from the minimum payoff. \n"
   ]
  },
  {
   "cell_type": "code",
   "execution_count": 6,
   "metadata": {},
   "outputs": [
    {
     "name": "stdout",
     "output_type": "stream",
     "text": [
      "0.025: 1070.00\n",
      "0.05:  1070.00\n",
      "0.95:  1387.07\n"
     ]
    }
   ],
   "source": [
    "q = [0.025, 0.5, 0.95]\n",
    "Q = np.quantile(W_5, q)\n",
    "print('0.025: ' + '{0:.2f}'.format(Q[0]))\n",
    "print('0.05:  ' + '{0:.2f}'.format(Q[1]))\n",
    "print('0.95:  ' + '{0:.2f}'.format(Q[2]))"
   ]
  },
  {
   "cell_type": "markdown",
   "metadata": {},
   "source": [
    "# 3 How different weights affect the payoff\n",
    "\"Discuss how different weights in the basket affect the final payoff.\"  \n",
    "  \n",
    "i) set to zero the weight of the Index with highest volatility and to one the others  \n",
    "* SX5E has the highest volatility  \n",
    "\n",
    "\n",
    "ii) assume the basked is made of the SP 500 index only.  \n",
    "* Set the SPX weight to 1, others to 0\n",
    "\n",
    "Comment on this, report the expected payoff and the multipliers in the two cases. \n",
    "\n",
    "### Comment:\n",
    "Weights affect the multiplier vector M. The payoff is slightly smaller with SX5E zero weight because of the lower volatility of that version of the contract.\n",
    "\n"
   ]
  },
  {
   "cell_type": "code",
   "execution_count": 7,
   "metadata": {},
   "outputs": [
    {
     "name": "stdout",
     "output_type": "stream",
     "text": [
      "Vols: \n",
      "SPX:  0.133\n",
      "SX5E: 0.181\n",
      "HSX:  0.173\n",
      "\n",
      "\n",
      "Payoff (SX5E zero weight): 1136.98\n",
      "Weights:\n",
      "SPX:  0.018\n",
      "SX5E: 0.000\n",
      "HSX:  0.002\n",
      "\n",
      "\n",
      "Payoff (SPX only): 1138.71\n",
      "Weights:\n",
      "SPX:  0.036\n",
      "SX5E: 0.000\n",
      "HSX:  0.000\n",
      "\n",
      "Payoff (original): 1138.71\n"
     ]
    }
   ],
   "source": [
    "vol_test = volatilities(data, '2019-02-25', '2014-02-25')\n",
    "print('Vols: ')\n",
    "print('SPX:  ' +'{0:.3f}'.format(vol_test[0]))\n",
    "print('SX5E: ' +'{0:.3f}'.format(vol_test[1]))\n",
    "print('HSX:  ' +'{0:.3f}'.format(vol_test[2]))\n",
    "print('\\n')\n",
    "\n",
    "# i) SX5E zero weight\n",
    "I_Weights = [50, 0, 50] # Index weights in basket\n",
    "M = M_(data, '2019-02-25', I_Weights) # Multiplier vector\n",
    "M_SX5E_Zero = M \n",
    "\n",
    "W_5 = payoff(data, r, m, n, S_m, '2019-02-25', '2014-02-25')\n",
    "P_5 = np.mean(W_5)\n",
    "print('Payoff (SX5E zero weight): ' + '{0:.2f}'.format(P_5))\n",
    "print(\"Weights:\")\n",
    "print('SPX:  ' +'{0:.3f}'.format(M_SX5E_Zero[0, 0]))\n",
    "print('SX5E: ' +'{0:.3f}'.format(M_SX5E_Zero[1, 0]))\n",
    "print('HSX:  ' +'{0:.3f}'.format(M_SX5E_Zero[2, 0]))\n",
    "print('\\n')\n",
    "\n",
    "# ii) SPX only\n",
    "I_Weights = [100, 0, 0] # Index weights in basket\n",
    "M = M_(data, '2019-02-25', I_Weights) # Multiplier vector\n",
    "M_SPX_Only = M\n",
    "\n",
    "W_5 = payoff(data, r, m, n, S_m, '2019-02-25', '2014-02-25')\n",
    "P_5 = np.mean(W_5)\n",
    "print('Payoff (SPX only): ' + '{0:.2f}'.format(P_5))\n",
    "print(\"Weights:\")\n",
    "print('SPX:  ' +'{0:.3f}'.format(M_SPX_Only[0, 0]))\n",
    "print('SX5E: ' +'{0:.3f}'.format(M_SPX_Only[1, 0]))\n",
    "print('HSX:  ' +'{0:.3f}'.format(M_SPX_Only[2, 0]) + '\\n')\n",
    "\n",
    "print('Payoff (original): ' + '{0:.2f}'.format(P_5))"
   ]
  },
  {
   "cell_type": "markdown",
   "metadata": {},
   "source": [
    "# 4 Make a plot of the expected payoff against different risk free rates and different volatility values\n",
    "\n",
    "i) r = 0.005 : 0.005 : 0.3  \n",
    "ii) σ = 0.05 : 0.05 : 0.3\n",
    "\n",
    "### Comment:\n",
    "It can be seen that by increasing both volatility and risk free rates, the payoff of the contract increases. \n"
   ]
  },
  {
   "cell_type": "code",
   "execution_count": 8,
   "metadata": {},
   "outputs": [
    {
     "data": {
      "image/png": "[encoded data removed]",
      "text/plain": [
       "<Figure size 432x288 with 1 Axes>"
      ]
     },
     "metadata": {
      "needs_background": "light"
     },
     "output_type": "display_data"
    },
    {
     "data": {
      "image/png": "[encoded data removed]",
      "text/plain": [
       "<Figure size 432x288 with 1 Axes>"
      ]
     },
     "metadata": {
      "needs_background": "light"
     },
     "output_type": "display_data"
    }
   ],
   "source": [
    "I_Weights = [100/3, 100/3, 100/3]\n",
    "M = M_(data, '2019-02-25', I_Weights)\n",
    "\n",
    "# i) \n",
    "r_range = np.arange(0.005, 0.3, 0.005)\n",
    "P = np.empty(0)\n",
    "\n",
    "for r in r_range:\n",
    "    W_5 = payoff(data, r, m, n, S_m, '2019-02-25', '2014-02-25')\n",
    "    P_5 = np.mean(W_5)\n",
    "    P = np.append(P, P_5)\n",
    "\n",
    "plt.plot(r_range, P)\n",
    "plt.title('Payoff against different risk free rates')\n",
    "plt.show()\n",
    "\n",
    "# ii)\n",
    "r = 0.025\n",
    "vol_range = np.arange(0.05, 0.3, 0.05)\n",
    "P = np.empty(0)\n",
    "\n",
    "for v in vol_range:\n",
    "    vol = np.array([v, v, v])\n",
    "    W_5 = payoff(data, r, m, n, S_m, '2019-02-25', '2014-02-25', vol)\n",
    "    P_5 = np.mean(W_5)\n",
    "    P = np.append(P, P_5)\n",
    "\n",
    "plt.plot(vol_range, P)\n",
    "plt.title('Payoff against different constant volatilities')\n",
    "plt.show()\n"
   ]
  },
  {
   "cell_type": "markdown",
   "metadata": {},
   "source": [
    "# 5 Set a cap to payoff \n",
    "\"Set a cap of 1300$ to contract.\"\n",
    "### Comment: \n",
    "\n",
    "The cap limits the 0.95 quantile to the cap, 1300$ and lowers the expected payoff. Cap is a sensitive adjustment in a sense that it limits the expected payoff instantly when approaching the payoff distribution centre. "
   ]
  },
  {
   "cell_type": "code",
   "execution_count": 9,
   "metadata": {},
   "outputs": [
    {
     "name": "stdout",
     "output_type": "stream",
     "text": [
      "Payoff no cap: 1134.28\n",
      "0.95 quantile no cap: 1387.07\n",
      "\n",
      "Payoff w/ cap: 1123.12\n",
      "0.95 quantile w/ cap: 1300.00\n"
     ]
    }
   ],
   "source": [
    "#W/O cap \n",
    "Q = np.quantile(W_orig, 0.95)\n",
    "\n",
    "# W/ cap of 1300$\n",
    "W_5_cap = payoff(data, r, m, n, S_m, '2019-02-25', '2014-02-25', cap=1300)\n",
    "PO_5_cap = np.mean(W_5_cap)\n",
    "Q_cap = np.quantile(W_5_cap, 0.95)\n",
    "\n",
    "print('Payoff no cap: ' + '{0:.2f}'.format(PO_orig))\n",
    "print('0.95 quantile no cap: ' + '{0:.2f}'.format(Q)+'\\n')\n",
    "print('Payoff w/ cap: ' + '{0:.2f}'.format(PO_5_cap))\n",
    "print('0.95 quantile w/ cap: ' + '{0:.2f}'.format(Q_cap))"
   ]
  },
  {
   "cell_type": "markdown",
   "metadata": {},
   "source": [
    "# 6 Find the value of the contract on 25 March 2019   \n",
    "\"To do so you will need to evaluate the expected payoff on March 25 2019, and use the historical data up to this day. Comment your findings wrt. question 1.\"\n",
    "### Comment: \n",
    "The payoff and price of the contract doesn't change much when calculated on March 25. "
   ]
  },
  {
   "cell_type": "code",
   "execution_count": 10,
   "metadata": {},
   "outputs": [
    {
     "name": "stdout",
     "output_type": "stream",
     "text": [
      "Price (2019-03-25): 1010.48\n",
      "Payoff (2019-03-25):  1142.64\n",
      "Mean of volatilities (2019-03-25): 0.162\n",
      "\n",
      "Price (2019-02-25): 1001.00\n",
      "Payoff (2019-02-25):  1134.28\n",
      "Mean of volatilities (2019-02-25): 0.162\n",
      "\n"
     ]
    }
   ],
   "source": [
    "# Expected payoff at 2019-03-25\n",
    "S0 = initialIndexValues(data, '2019-03-25')\n",
    "t[0] = pd.to_datetime('2019-03-25', format='%Y-%m-%d')\n",
    "W_5 = payoff(data, r, m, n, S_m, '2019-03-25', '2014-02-25')\n",
    "\n",
    "#Calculate payoffs\n",
    "PO_5 = np.mean(W_5)\n",
    "\n",
    "#Calculate fair prices by discounting, one month forward so time to payoff changes\n",
    "P_5 = PO_5*np.exp(-r*(5-1/12))\n",
    "\n",
    "Vol_5 = volatilities(data, '2019-03-25', '2014-02-25')\n",
    "\n",
    "print('Price (2019-03-25): ' + '{0:.2f}'.format(P_5))\n",
    "print('Payoff (2019-03-25):  ' + '{0:.2f}'.format(PO_5))\n",
    "print(\"Mean of volatilities (2019-03-25): \" + '{0:.3f}'.format(np.mean(Vol_5))+'\\n')\n",
    "\n",
    "print('Price (2019-02-25): ' + '{0:.2f}'.format(P_orig))\n",
    "print('Payoff (2019-02-25):  ' + '{0:.2f}'.format(PO_orig))\n",
    "print(\"Mean of volatilities (2019-02-25): \" + '{0:.3f}'.format(np.mean(Vol_orig))+'\\n')"
   ]
  },
  {
   "cell_type": "markdown",
   "metadata": {},
   "source": [
    "# 7 Inverse reasoning \n",
    "\"First, reconstruct the (hypothetical) historical basket values. That is,\n",
    "the basket values that would have been observed in the past, based on the observed prices (use the same\n",
    "multiplier as before, so that at t0 the index values is still 100 and each index accounts for 33%). Estimate\n",
    "the basked volatility from this (unique) time series, simulate future basket values and determine its\n",
    "expected payoff (and its fair price) under this approach. Comment on the two methods and tell whether\n",
    "they should give the very same estimates or not.\"\n",
    "\n",
    "### Comment: \n",
    "The price and payoff do not change much. The two methods should give similar estimates, but because of the \n"
   ]
  },
  {
   "cell_type": "code",
   "execution_count": 11,
   "metadata": {},
   "outputs": [
    {
     "name": "stdout",
     "output_type": "stream",
     "text": [
      "Price (basket): 1002.25\n",
      "Payoff (basket):  1135.69\n",
      "\n",
      "Price (original): 1001.00\n",
      "Payoff (original):  1134.28\n"
     ]
    }
   ],
   "source": [
    "basketValues = data\n",
    "basketValues['Basket'] = data['SPX_Close'] * M[0] + data['SX5E_Close'] * M[1] + data['HSI_Close'] * M[2]\n",
    "\n",
    "basketValues['LogReturns'] = np.log(basketValues['Basket']/basketValues['Basket'].shift(1))\n",
    "vol = np.std(basketValues['LogReturns']/np.sqrt(1/252))\n",
    "\n",
    "S = np.empty(n+1)\n",
    "S[0] = 100\n",
    "S_at = S\n",
    "\n",
    "V = np.empty(m)\n",
    "V_at = V\n",
    "W = V\n",
    "\n",
    "for i in range(m): #Loop through paths\n",
    "    for j in range(1, n+1): #Loop through time steps\n",
    "        dt = (t.iloc[j] - t.iloc[j-1]).days / 365\n",
    "        \n",
    "        S[j] = S[j-1] * np.exp((r - 0.5 * vol**2) * dt + vol * np.random.normal() * np.sqrt(dt))\n",
    "        S_at[j] = S_at[j-1] * np.exp((r - 0.5 * vol**2) * dt - vol * np.random.normal() * np.sqrt(dt))\n",
    "\n",
    "        V[i] = basketPayoff(S, S_m)\n",
    "        V_at[i] = basketPayoff(S_at, S_m)\n",
    "        W[i] = 0.5 * (V[i] + V_at[i])\n",
    "\n",
    "PO = np.mean(W)\n",
    "P = PO*np.exp(-r*5)\n",
    "\n",
    "print('Price (basket): ' + '{0:.2f}'.format(P))\n",
    "print('Payoff (basket):  ' + '{0:.2f}'.format(PO) + '\\n')\n",
    "print('Price (original): ' + '{0:.2f}'.format(P_orig))\n",
    "print('Payoff (original):  ' + '{0:.2f}'.format(PO_orig))"
   ]
  },
  {
   "cell_type": "markdown",
   "metadata": {},
   "source": [
    "# 8 Overall comment on the contract\n",
    "\n",
    "* The payoff of the contract goes up when rates and volatility goes up. Given that rates are now very low and are supposed to go higher in the future, the payoff should grow in the future i. e. it is a good investment.\n",
    "* But, there is always the risk that the economic cycle goes downwards and the indexes start to go down simultaneously as they are large equity indexes.\n",
    "* Given that the contract consists of three different large indexes with diverse locations, I'd say that it it's very well diversified in general.\n",
    "\n",
    "Runtime with 10^5 simulations appr. 3hrs 59min.\n"
   ]
  },
  {
   "cell_type": "code",
   "execution_count": 12,
   "metadata": {},
   "outputs": [
    {
     "name": "stdout",
     "output_type": "stream",
     "text": [
      "Time elapsed with 1000 iterations: 2:55\n"
     ]
    }
   ],
   "source": [
    "elapsed = timeit.default_timer() - start_time\n",
    "print('Time elapsed with ' + str(m) +  ' iterations: '  + '{:.0f}'.format((elapsed-elapsed%60)/60) + \":\" + '{:.0f}'.format(elapsed%60))  "
   ]
  }
 ],
 "metadata": {
  "kernelspec": {
   "display_name": "Python 3",
   "language": "python",
   "name": "python3"
  },
  "language_info": {
   "codemirror_mode": {
    "name": "ipython",
    "version": 3
   },
   "file_extension": ".py",
   "mimetype": "text/x-python",
   "name": "python",
   "nbconvert_exporter": "python",
   "pygments_lexer": "ipython3",
   "version": "3.7.2"
  }
 },
 "nbformat": 4,
 "nbformat_minor": 2
}
